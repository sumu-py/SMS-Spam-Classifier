{
 "cells": [
  {
   "cell_type": "markdown",
   "id": "0d5b3106",
   "metadata": {},
   "source": [
    "### Importing the libraries"
   ]
  },
  {
   "cell_type": "code",
   "execution_count": 1,
   "id": "d472748e",
   "metadata": {},
   "outputs": [],
   "source": [
    "import pandas as pd\n",
    "import nltk\n",
    "import re\n",
    "from nltk.corpus import stopwords\n",
    "from nltk.stem.porter import PorterStemmer\n",
    "from nltk.stem.wordnet import WordNetLemmatizer"
   ]
  },
  {
   "cell_type": "markdown",
   "id": "c15b5ca8",
   "metadata": {},
   "source": [
    "### Import the dataset"
   ]
  },
  {
   "cell_type": "code",
   "execution_count": 2,
   "id": "ed575354",
   "metadata": {},
   "outputs": [
    {
     "data": {
      "text/html": [
       "<div>\n",
       "<style scoped>\n",
       "    .dataframe tbody tr th:only-of-type {\n",
       "        vertical-align: middle;\n",
       "    }\n",
       "\n",
       "    .dataframe tbody tr th {\n",
       "        vertical-align: top;\n",
       "    }\n",
       "\n",
       "    .dataframe thead th {\n",
       "        text-align: right;\n",
       "    }\n",
       "</style>\n",
       "<table border=\"1\" class=\"dataframe\">\n",
       "  <thead>\n",
       "    <tr style=\"text-align: right;\">\n",
       "      <th></th>\n",
       "      <th>labels</th>\n",
       "      <th>messages</th>\n",
       "    </tr>\n",
       "  </thead>\n",
       "  <tbody>\n",
       "    <tr>\n",
       "      <th>0</th>\n",
       "      <td>ham</td>\n",
       "      <td>Go until jurong point, crazy.. Available only ...</td>\n",
       "    </tr>\n",
       "    <tr>\n",
       "      <th>1</th>\n",
       "      <td>ham</td>\n",
       "      <td>Ok lar... Joking wif u oni...</td>\n",
       "    </tr>\n",
       "    <tr>\n",
       "      <th>2</th>\n",
       "      <td>spam</td>\n",
       "      <td>Free entry in 2 a wkly comp to win FA Cup fina...</td>\n",
       "    </tr>\n",
       "    <tr>\n",
       "      <th>3</th>\n",
       "      <td>ham</td>\n",
       "      <td>U dun say so early hor... U c already then say...</td>\n",
       "    </tr>\n",
       "    <tr>\n",
       "      <th>4</th>\n",
       "      <td>ham</td>\n",
       "      <td>Nah I don't think he goes to usf, he lives aro...</td>\n",
       "    </tr>\n",
       "    <tr>\n",
       "      <th>...</th>\n",
       "      <td>...</td>\n",
       "      <td>...</td>\n",
       "    </tr>\n",
       "    <tr>\n",
       "      <th>5567</th>\n",
       "      <td>spam</td>\n",
       "      <td>This is the 2nd time we have tried 2 contact u...</td>\n",
       "    </tr>\n",
       "    <tr>\n",
       "      <th>5568</th>\n",
       "      <td>ham</td>\n",
       "      <td>Will ü b going to esplanade fr home?</td>\n",
       "    </tr>\n",
       "    <tr>\n",
       "      <th>5569</th>\n",
       "      <td>ham</td>\n",
       "      <td>Pity, * was in mood for that. So...any other s...</td>\n",
       "    </tr>\n",
       "    <tr>\n",
       "      <th>5570</th>\n",
       "      <td>ham</td>\n",
       "      <td>The guy did some bitching but I acted like i'd...</td>\n",
       "    </tr>\n",
       "    <tr>\n",
       "      <th>5571</th>\n",
       "      <td>ham</td>\n",
       "      <td>Rofl. Its true to its name</td>\n",
       "    </tr>\n",
       "  </tbody>\n",
       "</table>\n",
       "<p>5572 rows × 2 columns</p>\n",
       "</div>"
      ],
      "text/plain": [
       "     labels                                           messages\n",
       "0       ham  Go until jurong point, crazy.. Available only ...\n",
       "1       ham                      Ok lar... Joking wif u oni...\n",
       "2      spam  Free entry in 2 a wkly comp to win FA Cup fina...\n",
       "3       ham  U dun say so early hor... U c already then say...\n",
       "4       ham  Nah I don't think he goes to usf, he lives aro...\n",
       "...     ...                                                ...\n",
       "5567   spam  This is the 2nd time we have tried 2 contact u...\n",
       "5568    ham               Will ü b going to esplanade fr home?\n",
       "5569    ham  Pity, * was in mood for that. So...any other s...\n",
       "5570    ham  The guy did some bitching but I acted like i'd...\n",
       "5571    ham                         Rofl. Its true to its name\n",
       "\n",
       "[5572 rows x 2 columns]"
      ]
     },
     "execution_count": 2,
     "metadata": {},
     "output_type": "execute_result"
    }
   ],
   "source": [
    "dataset = pd.read_csv('SMSSpamCollection', delimiter = '\\t', names =['labels', 'messages'])\n",
    "dataset"
   ]
  },
  {
   "cell_type": "code",
   "execution_count": 3,
   "id": "679e3689",
   "metadata": {},
   "outputs": [
    {
     "data": {
      "text/plain": [
       "labels      0\n",
       "messages    0\n",
       "dtype: int64"
      ]
     },
     "execution_count": 3,
     "metadata": {},
     "output_type": "execute_result"
    }
   ],
   "source": [
    "dataset.isnull().sum()"
   ]
  },
  {
   "cell_type": "markdown",
   "id": "79ae14af",
   "metadata": {},
   "source": [
    "### Text Cleaning"
   ]
  },
  {
   "cell_type": "code",
   "execution_count": 4,
   "id": "14aaa3c9",
   "metadata": {
    "scrolled": true
   },
   "outputs": [],
   "source": [
    "ps = PorterStemmer()\n",
    "wnl = WordNetLemmatizer()\n",
    "corpus = []\n",
    "\n",
    "for i in range(len(dataset['messages'])):\n",
    "    sentence = re.sub('[^a-zA-Z]', ' ', dataset.iloc[i, 1])\n",
    "    tokens = nltk.word_tokenize(sentence)\n",
    "    tokens = [ps.stem(word) for word in tokens if word not in stopwords.words('english')]\n",
    "    tokens = ' '.join(tokens)\n",
    "    corpus.append(tokens)    "
   ]
  },
  {
   "cell_type": "markdown",
   "id": "92adc046",
   "metadata": {},
   "source": [
    "### Creating the Bag of Words (BoW) model"
   ]
  },
  {
   "cell_type": "code",
   "execution_count": 5,
   "id": "c7bfba5b",
   "metadata": {},
   "outputs": [],
   "source": [
    "from sklearn.feature_extraction.text import CountVectorizer\n",
    "cv = CountVectorizer(max_features = 3000)\n",
    "X = cv.fit_transform(corpus).toarray()"
   ]
  },
  {
   "cell_type": "markdown",
   "id": "f688c941",
   "metadata": {},
   "source": [
    "### Declaring the variables"
   ]
  },
  {
   "cell_type": "code",
   "execution_count": 6,
   "id": "1181517b",
   "metadata": {},
   "outputs": [],
   "source": [
    "y = pd.get_dummies(dataset['labels'], drop_first = True)\n",
    "y = y.values.reshape(-1)"
   ]
  },
  {
   "cell_type": "markdown",
   "id": "0f7e93b2",
   "metadata": {},
   "source": [
    "### Splitting the dataset into Training set and Test set"
   ]
  },
  {
   "cell_type": "code",
   "execution_count": 7,
   "id": "0eacbc6f",
   "metadata": {},
   "outputs": [],
   "source": [
    "from sklearn.model_selection import train_test_split\n",
    "X_train, X_test, y_train, y_test = train_test_split(X, y, test_size = 0.20, random_state = 5)"
   ]
  },
  {
   "cell_type": "markdown",
   "id": "a33e459e",
   "metadata": {},
   "source": [
    "### Using Multinomial Naive Bayes model for Classification"
   ]
  },
  {
   "cell_type": "code",
   "execution_count": 8,
   "id": "fad90bec",
   "metadata": {},
   "outputs": [
    {
     "data": {
      "text/plain": [
       "MultinomialNB()"
      ]
     },
     "execution_count": 8,
     "metadata": {},
     "output_type": "execute_result"
    }
   ],
   "source": [
    "from sklearn.naive_bayes import MultinomialNB\n",
    "mnb_classifier = MultinomialNB()\n",
    "mnb_classifier.fit(X_train, y_train)"
   ]
  },
  {
   "cell_type": "markdown",
   "id": "9ea2bab1",
   "metadata": {},
   "source": [
    "### Predicting the Test set results"
   ]
  },
  {
   "cell_type": "code",
   "execution_count": 9,
   "id": "8f27d117",
   "metadata": {},
   "outputs": [
    {
     "name": "stdout",
     "output_type": "stream",
     "text": [
      "Accuracy_score : 99.37\n",
      "Confusion matix :\n",
      " [[967   3]\n",
      " [  4 141]]\n"
     ]
    }
   ],
   "source": [
    "y_pred = mnb_classifier.predict(X_test)\n",
    "\n",
    "# Accuracy Score and Confusion Matrix\n",
    "from sklearn.metrics import accuracy_score, confusion_matrix\n",
    "accuracy = accuracy_score(y_test, y_pred)\n",
    "print('Accuracy_score :', round(accuracy*100, 2))\n",
    "cm = confusion_matrix(y_test, y_pred)\n",
    "print('Confusion matix :\\n', cm)"
   ]
  },
  {
   "cell_type": "markdown",
   "id": "d00b9bc1",
   "metadata": {},
   "source": [
    "### Using the model to compare the Test set predicted values with original values"
   ]
  },
  {
   "cell_type": "code",
   "execution_count": 10,
   "id": "47718ab3",
   "metadata": {},
   "outputs": [
    {
     "data": {
      "text/html": [
       "<div>\n",
       "<style scoped>\n",
       "    .dataframe tbody tr th:only-of-type {\n",
       "        vertical-align: middle;\n",
       "    }\n",
       "\n",
       "    .dataframe tbody tr th {\n",
       "        vertical-align: top;\n",
       "    }\n",
       "\n",
       "    .dataframe thead th {\n",
       "        text-align: right;\n",
       "    }\n",
       "</style>\n",
       "<table border=\"1\" class=\"dataframe\">\n",
       "  <thead>\n",
       "    <tr style=\"text-align: right;\">\n",
       "      <th></th>\n",
       "      <th>Messages</th>\n",
       "      <th>Spam_actual</th>\n",
       "      <th>Spam_predicted</th>\n",
       "    </tr>\n",
       "  </thead>\n",
       "  <tbody>\n",
       "    <tr>\n",
       "      <th>0</th>\n",
       "      <td>PRIVATE! Your 2004 Account Statement for 07742...</td>\n",
       "      <td>1</td>\n",
       "      <td>1</td>\n",
       "    </tr>\n",
       "    <tr>\n",
       "      <th>1</th>\n",
       "      <td>No go. No openings for that room 'til after th...</td>\n",
       "      <td>0</td>\n",
       "      <td>0</td>\n",
       "    </tr>\n",
       "    <tr>\n",
       "      <th>2</th>\n",
       "      <td>GENT! We are trying to contact you. Last weeke...</td>\n",
       "      <td>1</td>\n",
       "      <td>1</td>\n",
       "    </tr>\n",
       "    <tr>\n",
       "      <th>3</th>\n",
       "      <td>Can you plz tell me the ans. BSLVYL sent via f...</td>\n",
       "      <td>0</td>\n",
       "      <td>0</td>\n",
       "    </tr>\n",
       "    <tr>\n",
       "      <th>4</th>\n",
       "      <td>I know girls always safe and selfish know i go...</td>\n",
       "      <td>0</td>\n",
       "      <td>0</td>\n",
       "    </tr>\n",
       "    <tr>\n",
       "      <th>...</th>\n",
       "      <td>...</td>\n",
       "      <td>...</td>\n",
       "      <td>...</td>\n",
       "    </tr>\n",
       "    <tr>\n",
       "      <th>1110</th>\n",
       "      <td>I think I‘m waiting for the same bus! Inform m...</td>\n",
       "      <td>0</td>\n",
       "      <td>0</td>\n",
       "    </tr>\n",
       "    <tr>\n",
       "      <th>1111</th>\n",
       "      <td>Dude we should go sup again</td>\n",
       "      <td>0</td>\n",
       "      <td>0</td>\n",
       "    </tr>\n",
       "    <tr>\n",
       "      <th>1112</th>\n",
       "      <td>Guess which pub im in? Im as happy as a pig in...</td>\n",
       "      <td>0</td>\n",
       "      <td>0</td>\n",
       "    </tr>\n",
       "    <tr>\n",
       "      <th>1113</th>\n",
       "      <td>URGENT! Your Mobile number has been awarded wi...</td>\n",
       "      <td>1</td>\n",
       "      <td>1</td>\n",
       "    </tr>\n",
       "    <tr>\n",
       "      <th>1114</th>\n",
       "      <td>I jokin oni lar.. Ü busy then i wun disturb ü.</td>\n",
       "      <td>0</td>\n",
       "      <td>0</td>\n",
       "    </tr>\n",
       "  </tbody>\n",
       "</table>\n",
       "<p>1115 rows × 3 columns</p>\n",
       "</div>"
      ],
      "text/plain": [
       "                                               Messages  Spam_actual  \\\n",
       "0     PRIVATE! Your 2004 Account Statement for 07742...            1   \n",
       "1     No go. No openings for that room 'til after th...            0   \n",
       "2     GENT! We are trying to contact you. Last weeke...            1   \n",
       "3     Can you plz tell me the ans. BSLVYL sent via f...            0   \n",
       "4     I know girls always safe and selfish know i go...            0   \n",
       "...                                                 ...          ...   \n",
       "1110  I think I‘m waiting for the same bus! Inform m...            0   \n",
       "1111                        Dude we should go sup again            0   \n",
       "1112  Guess which pub im in? Im as happy as a pig in...            0   \n",
       "1113  URGENT! Your Mobile number has been awarded wi...            1   \n",
       "1114     I jokin oni lar.. Ü busy then i wun disturb ü.            0   \n",
       "\n",
       "      Spam_predicted  \n",
       "0                  1  \n",
       "1                  0  \n",
       "2                  1  \n",
       "3                  0  \n",
       "4                  0  \n",
       "...              ...  \n",
       "1110               0  \n",
       "1111               0  \n",
       "1112               0  \n",
       "1113               1  \n",
       "1114               0  \n",
       "\n",
       "[1115 rows x 3 columns]"
      ]
     },
     "execution_count": 10,
     "metadata": {},
     "output_type": "execute_result"
    }
   ],
   "source": [
    "X_train_new, X_test_new, y_train_new, y_test_new = train_test_split(dataset['messages'].values, y, test_size = 0.20, random_state = 5)\n",
    "df_results = pd.DataFrame()\n",
    "df_results['Messages'] = X_test_new\n",
    "df_results['Spam_actual'] = y_test\n",
    "df_results['Spam_predicted'] = y_pred\n",
    "df_results.to_csv('results.csv')\n",
    "df_results"
   ]
  },
  {
   "cell_type": "markdown",
   "id": "02fd4b41",
   "metadata": {},
   "source": [
    "### Applying k-fold Cross Validation for checking model performance"
   ]
  },
  {
   "cell_type": "code",
   "execution_count": 11,
   "id": "d9782365",
   "metadata": {},
   "outputs": [
    {
     "name": "stdout",
     "output_type": "stream",
     "text": [
      "Best accuracy: 99.55 %\n",
      "Worst accuracy: 96.41 %\n",
      "Average accuracy: 98.25 %\n",
      "Standard Deviation of accuracies: 0.72 %\n"
     ]
    }
   ],
   "source": [
    "from sklearn.model_selection import cross_val_score\n",
    "accuracies = cross_val_score(estimator = mnb_classifier, X = X_train, y = y_train, cv = 20)\n",
    "print('Best accuracy:', round(max(accuracies)*100, 2), '%')\n",
    "print('Worst accuracy:', round(min(accuracies)*100, 2), '%')\n",
    "print('Average accuracy:', round(accuracies.mean()*100, 2), '%')\n",
    "print('Standard Deviation of accuracies:', round(accuracies.std()*100, 2), '%')"
   ]
  }
 ],
 "metadata": {
  "kernelspec": {
   "display_name": "Python 3 (ipykernel)",
   "language": "python",
   "name": "python3"
  },
  "language_info": {
   "codemirror_mode": {
    "name": "ipython",
    "version": 3
   },
   "file_extension": ".py",
   "mimetype": "text/x-python",
   "name": "python",
   "nbconvert_exporter": "python",
   "pygments_lexer": "ipython3",
   "version": "3.8.8"
  }
 },
 "nbformat": 4,
 "nbformat_minor": 5
}
